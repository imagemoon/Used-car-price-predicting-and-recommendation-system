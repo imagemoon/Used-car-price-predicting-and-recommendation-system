{
 "cells": [
  {
   "cell_type": "markdown",
   "metadata": {},
   "source": [
    "# Used Car Price Predicting Website Application (UCPPWA)\n",
    "\n",
    "### APMAE4990 Final Proposal "
   ]
  },
  {
   "cell_type": "markdown",
   "metadata": {},
   "source": [
    "## Fanchen Zeng (fz2241)    Season Yang ()    Yizhe Gao (yg2740)"
   ]
  },
  {
   "cell_type": "markdown",
   "metadata": {},
   "source": [
    "## Summary "
   ]
  },
  {
   "cell_type": "markdown",
   "metadata": {},
   "source": []
  },
  {
   "cell_type": "markdown",
   "metadata": {},
   "source": [
    "## Introduction\n",
    "\n",
    "There has been over 10,000 used cars searched within a 75-mile radius from major cities, including Chicago, Washington, New York, Seattle, etc. It is always a hard problem for the owners to price their used cars given the fact that there is a wide distribution of prices for cars with different conditions. They could guess but this is not an efficient way to maximize money for their cars. \n",
    "\n",
    "In this project, we will be using the data to create a web app that could help car owners in New York area price their used cars based on specific car conditions. Specifically, users should be able to enter their used car conditions and the web app should generate the range of price which would most likely to maximize price of their cars.\n"
   ]
  },
  {
   "cell_type": "markdown",
   "metadata": {},
   "source": [
    "## Audience\n",
    "\n",
    "1. Used car owners in New York area who want to price their used car based on specific car conditions. \n",
    "\n",
    "2. Potential used buyers in New York area who are not familiar with specific used car price.\n",
    "\n",
    "3. Practitioners who want to analyse the used car saling market"
   ]
  },
  {
   "cell_type": "markdown",
   "metadata": {},
   "source": [
    "## Component\n",
    "\n",
    "### 1. Prodicting System\n",
    "\n",
    "We decide to use parametric regression (Linear Ridge Regression) and nonparametric regession (Random Forests Regression) models to prodict the used car price\n",
    "\n",
    "Ridge Regression:\n",
    "\n",
    "$$\n",
    "    \\min_w \\{ \\text{Loss}(y, w^Tx) = \\frac{1}{N} \\sum_{i=1}^N (y_i - w^T x_i)^2 + \\lambda ||w||_{L^2} \\}\n",
    "$$\n",
    "\n",
    "Random Forests Regression:\n",
    "\n",
    "$$\n",
    "    \\text{For} ~ (x_i, y_i) ~ i \\in \\mathbf S \\\\\n",
    "    \\text{Separate randomly to subset} ~ \\mathbf S_1 ~ \\mathbf S_2 ~ \\cdots ~ \\mathbf S_n \\\\\n",
    "    \\text{Maximize entropy gain:} ~ \\max_f \\{ H_{gain}(Y) = H(Y) - H(Y | f)\\}\n",
    "$$\n",
    "\n",
    "### 2. Feedback Learning System\n",
    "\n",
    "In order to generate data to improve predicting accuracy, we introduce a feedback learning system in the UCPPWA.\n",
    "\n",
    "The feedback learning system collects real time data on used car price from the price input of users and from website https://www.cargurus.com/, http://www.autotrader.com/ and so on.\n",
    "\n",
    "Not only updata the dataset in UCPPWA, our team decides to give a reasonable weight to the new data, where the weight can be learned from empirical market research or regression result of existing time series dataset.\n",
    "\n",
    "<img src=\"weighted sample.png\">\n",
    "<h6 align=\"center\">Fig.1. Weighted Sample</h6> \n",
    "\n",
    "### 3. Recommendation System\n",
    "\n",
    "To better serve the potential used car buyers, we decides to use PCA to reduct the dimension as well as extract features and k-nearest neighbors algorithm to predict the optimal range of used cars that features buyers' preferences. \n",
    "\n",
    "<img src=\"KNN.png\">\n",
    "<h6 align=\"center\">Fig.2. kNN Algorithm </h6> \n",
    "\n",
    "### 4. Visualization Website Application\n",
    "\n",
    "Inspired by the demonstration of building classification in New York and San Francisco. Our team decides to create a website application to demonstrate our dataset and our systems in UPCCWA\n",
    "\n"
   ]
  },
  {
   "cell_type": "markdown",
   "metadata": {},
   "source": [
    "## Interface"
   ]
  },
  {
   "cell_type": "markdown",
   "metadata": {},
   "source": [
    "## Reference\n",
    "\n",
    "1. [Ridge Regression](https://github.com/Columbia-Intro-Data-Science/APMAE4990-/blob/master/lectures/Lecture%203%20-%20Model%20Selection%2C%20Evaluation%20and%20Regularization.pdf)\n",
    "\n",
    "2. [How does random forest works](https://www.quora.com/How-does-randomization-in-a-random-forest-work)\n",
    "\n",
    "3. [Weighted sample](http://scikit-learn.org/stable/auto_examples/svm/plot_weighted_samples.html)\n",
    "\n",
    "4. [k-nearest neighbors algorithm](https://en.wikipedia.org/wiki/K-nearest_neighbors_algorithm)\n",
    "\n",
    "5. [Recommendation System based on kNN](http://stackoverflow.com/questions/7742706/k-nearest-neighbour-vs-user-based-nearest-neighbour)\n",
    "\n",
    "6. [Visualization Website Application](http://www.r2d3.us/visual-intro-to-machine-learning-part-1/)"
   ]
  },
  {
   "cell_type": "code",
   "execution_count": null,
   "metadata": {
    "collapsed": true
   },
   "outputs": [],
   "source": []
  }
 ],
 "metadata": {
  "kernelspec": {
   "display_name": "Python 2",
   "language": "python",
   "name": "python2"
  },
  "language_info": {
   "codemirror_mode": {
    "name": "ipython",
    "version": 2
   },
   "file_extension": ".py",
   "mimetype": "text/x-python",
   "name": "python",
   "nbconvert_exporter": "python",
   "pygments_lexer": "ipython2",
   "version": "2.7.13"
  }
 },
 "nbformat": 4,
 "nbformat_minor": 2
}
